{
 "cells": [
  {
   "attachments": {},
   "cell_type": "markdown",
   "metadata": {},
   "source": [
    "# 03 - Langchain\n",
    "\n",
    "In this lab, we will introduce [Langchain](https://python.langchain.com/docs/get_started/introduction), a framework for developing applications powered by language models.\n",
    "\n",
    "Langchain supports Python and Javascript / Typescript. For this lab, we will use Python."
   ]
  },
  {
   "attachments": {},
   "cell_type": "markdown",
   "metadata": {},
   "source": [
    "We'll start by importing the `AzureOpenAI` specific components from the `langchain` package, including models and schemas for interacting with the API."
   ]
  },
  {
   "cell_type": "code",
   "execution_count": 1,
   "metadata": {},
   "outputs": [],
   "source": [
    "from langchain_openai import AzureChatOpenAI"
   ]
  },
  {
   "attachments": {},
   "cell_type": "markdown",
   "metadata": {},
   "source": [
    "As with all the other labs, we'll need to provide our API key and endpoint details, so we'll load them from our `.env` file."
   ]
  },
  {
   "cell_type": "code",
   "execution_count": 2,
   "metadata": {},
   "outputs": [
    {
     "name": "stdout",
     "output_type": "stream",
     "text": [
      "Found Azure OpenAI Endpoint: https://aoai-itia-ws.openai.azure.com/\n"
     ]
    }
   ],
   "source": [
    "import os\n",
    "import openai\n",
    "from dotenv import load_dotenv\n",
    "\n",
    "if load_dotenv():\n",
    "    print(\"Found Azure OpenAI Endpoint: \" + os.getenv(\"AZURE_OPENAI_ENDPOINT\"))\n",
    "else: \n",
    "    print(\"No file .env found\")"
   ]
  },
  {
   "attachments": {},
   "cell_type": "markdown",
   "metadata": {},
   "source": [
    "Next, we'll configure Langchain by providing the Azure OpenAI deployment name. Langchain will automatically retrieve details for the Azure OpenAI endpoint and version from the environment variables we've set above."
   ]
  },
  {
   "cell_type": "code",
   "execution_count": 3,
   "metadata": {},
   "outputs": [],
   "source": [
    "# Create an instance of Azure OpenAI\n",
    "llm = AzureChatOpenAI(\n",
    "    azure_deployment = os.getenv(\"AZURE_OPENAI_COMPLETION_DEPLOYMENT_NAME\")\n",
    ")"
   ]
  },
  {
   "attachments": {},
   "cell_type": "markdown",
   "metadata": {},
   "source": [
    "## Send a prompt to Azure OpenAI using Langchain\n",
    "\n",
    "We're now ready to send a request to Azure OpenAI. To do this, we invoke the `llm` instance we created above and pass in the prompt."
   ]
  },
  {
   "cell_type": "code",
   "execution_count": 6,
   "metadata": {},
   "outputs": [
    {
     "name": "stdout",
     "output_type": "stream",
     "text": [
      "There are numerous projects you can undertake using a Raspberry Pi. Here are some popular examples:\n",
      "\n",
      "1. Media center: Transform your Pi into a media center by installing Kodi or Plex, allowing you to stream movies, TV shows, and music to your TV.\n",
      "\n",
      "2. Retro gaming console: Build a retro gaming console using the open-source RetroPie software, enabling you to play classic games from various consoles and arcade systems.\n",
      "\n",
      "3. Home automation system: Automate your home using a Raspberry Pi by connecting and controlling various smart devices such as lights, thermostats, and security systems.\n",
      "\n",
      "4. Network-attached storage (NAS): Set up a NAS using a Raspberry Pi, connecting external hard drives and creating a centralized storage solution for your home network.\n",
      "\n",
      "5. Weather station: Build a weather station that collects and displays data such as temperature, humidity, and air pressure using sensors connected to your Raspberry Pi.\n",
      "\n",
      "6. Robotics projects: Use a Raspberry Pi to control and program robots, allowing you to learn and experiment with robotics.\n",
      "\n",
      "7. Pi-powered camera: Create a surveillance system or a time-lapse camera using a Raspberry Pi and a camera module.\n",
      "\n",
      "8. Pi-powered car: Build a remote-controlled car or a mini self-driving car using a Raspberry Pi and various sensors.\n",
      "\n",
      "9. Magic mirror: Construct a smart mirror that displays useful information like weather, news, calendar events, and more, using a Raspberry Pi behind a two-way mirror.\n",
      "\n",
      "10. Home-assistant hub: Set up a home automation hub using platforms like Home Assistant, connecting and controlling various smart devices under one interface.\n",
      "\n",
      "These are just a few examples, and the possibilities are practically endless. Raspberry Pi's flexibility and affordability make it a great platform for exploring a wide range of projects.\n"
     ]
    }
   ],
   "source": [
    "r = llm.invoke(\"What things could I make with a Raspberry Pi?\")\n",
    "\n",
    "# Print the response\n",
    "print(r.content)"
   ]
  },
  {
   "cell_type": "markdown",
   "metadata": {},
   "source": [
    "Compared to using the OpenAI Python library as we did in the previous lab, Langchain further simplified the process of interacting with the LLM by reducing it to a `llm.invoke` call."
   ]
  },
  {
   "attachments": {},
   "cell_type": "markdown",
   "metadata": {},
   "source": [
    "## Using templates and chains\n",
    "\n",
    "We've seen that we can use Langchain to interact with the LLM and it's a little easier to work with than the OpenAI Python library. However, that's just the start of how Langchain makes it easier to work with LLM's. Most OpenAI models are designed to be interacted with using a Chat style interface, where you provide a persona or system prompt which helps the LLM understand the context of the conversation. This will then be sent to the LLM along with the user's request.\n",
    "\n",
    "So that you don't have to setup the persona / system prompt every time you want to interact with the LLM, Langchain provides the concept of Templates. Templates are a way to define the persona and system prompt once and then reuse them across multiple interactions."
   ]
  },
  {
   "cell_type": "code",
   "execution_count": 7,
   "metadata": {},
   "outputs": [],
   "source": [
    "from langchain_core.prompts import ChatPromptTemplate\n",
    "prompt = ChatPromptTemplate.from_messages([\n",
    "    (\"system\", \"You are a chatbot that helps people generate ideas for their next project. You can help them brainstorm ideas, come up with a plan, or even help them with their project.\"),\n",
    "    (\"user\", \"{input}\")\n",
    "])"
   ]
  },
  {
   "cell_type": "markdown",
   "metadata": {},
   "source": [
    "Above we've defined a \"system\" message which will tell the LLM how we're expecting it to respond, and an `{input}` placeholder for the user's prompt.\n",
    "\n",
    "Next, we define a chain. A chain allows us to define a sequence of operations that we want to perform. In this case, we're defining a simple chain that will take the prompt we've defined above and send it to the LLM."
   ]
  },
  {
   "cell_type": "code",
   "execution_count": 8,
   "metadata": {},
   "outputs": [],
   "source": [
    "chain = prompt | llm"
   ]
  },
  {
   "cell_type": "markdown",
   "metadata": {},
   "source": [
    "Now, we can invoke the chain in a similar fashion to how to invoked the LLM earlier. This time, we're passing in the user's input as a parameter to the chain, which will replace the `{input}` placeholder in the prompt."
   ]
  },
  {
   "cell_type": "code",
   "execution_count": 9,
   "metadata": {},
   "outputs": [
    {
     "data": {
      "text/plain": [
       "AIMessage(content='Of course! Here are a few project ideas you can consider for your Raspberry Pi:\\n\\n1. Retro gaming console: Turn your Raspberry Pi into a retro gaming console by installing RetroPie. You can play classic games from various consoles, such as NES, SNES, Sega Genesis, and more.\\n\\n2. Home media center: Transform your Raspberry Pi into a media center by setting up Kodi. You can stream movies, TV shows, music, and even access online content through various add-ons.\\n\\n3. Weather station: Build a weather station using your Raspberry Pi to monitor and display real-time weather data from your location. You can include temperature, humidity, barometric pressure, and more.\\n\\n4. Home automation hub: Create a home automation system by connecting your Raspberry Pi to various devices like smart plugs, lights, sensors, and more. Control and automate your home using software like Home Assistant or OpenHAB.\\n\\n5. Pi-powered robot: Build a small robot using your Raspberry Pi and control it remotely. You can equip it with sensors, a camera, and even program it to perform specific tasks.\\n\\n6. Network-wide ad-blocker: Set up Pi-hole on your Raspberry Pi to block ads for all devices on your network. This can help improve internet speed, reduce data usage, and protect against malware.\\n\\n7. Smart mirror: Create a smart mirror that displays useful information like time, weather, calendar events, news, and more. You can also add voice control functionality using tools like Google Assistant or Amazon Alexa.\\n\\n8. Portable music player: Transform your Raspberry Pi into a portable music player by connecting a touchscreen display, speakers, and a battery pack. You can store your music library locally or stream it from online services.\\n\\n9. Home security system: Develop a home security system using your Raspberry Pi and a webcam. You can set up motion detection, receive alerts, and even stream the video feed to your phone or computer.\\n\\n10. Pi-powered photo booth: Build a photo booth using your Raspberry Pi, a camera module, and a touchscreen display. Add fun features like filters, props, and instant photo printing.\\n\\nI hope these ideas inspire you! Let me know if you need more information or assistance with any of these projects.', response_metadata={'token_usage': {'completion_tokens': 448, 'prompt_tokens': 73, 'total_tokens': 521}, 'model_name': 'gpt-35-turbo', 'system_fingerprint': None, 'prompt_filter_results': [{'prompt_index': 0, 'content_filter_results': {'hate': {'filtered': False, 'severity': 'safe'}, 'self_harm': {'filtered': False, 'severity': 'safe'}, 'sexual': {'filtered': False, 'severity': 'safe'}, 'violence': {'filtered': False, 'severity': 'safe'}}}], 'finish_reason': 'stop', 'logprobs': None, 'content_filter_results': {'hate': {'filtered': False, 'severity': 'safe'}, 'self_harm': {'filtered': False, 'severity': 'safe'}, 'sexual': {'filtered': False, 'severity': 'safe'}, 'violence': {'filtered': False, 'severity': 'safe'}}}, id='run-5859322a-63d1-451c-a5aa-0e6371855ccf-0')"
      ]
     },
     "execution_count": 9,
     "metadata": {},
     "output_type": "execute_result"
    }
   ],
   "source": [
    "chain.invoke({\"input\": \"I've just purchased a Raspberry Pi and I'm looking for a project to work on. Can you help me brainstorm some ideas?\"})"
   ]
  },
  {
   "cell_type": "markdown",
   "metadata": {},
   "source": [
    "The result will be an `AIMessage` object, which contains the response from the LLM.\n",
    "\n",
    "Let's enhance the chain further to get it to parse the output from the LLM and extract the text from the response. First, we define an output parser."
   ]
  },
  {
   "cell_type": "code",
   "execution_count": 10,
   "metadata": {},
   "outputs": [],
   "source": [
    "from langchain_core.output_parsers import StrOutputParser\n",
    "\n",
    "output_parser = StrOutputParser()"
   ]
  },
  {
   "cell_type": "markdown",
   "metadata": {},
   "source": [
    "Next, we redefine our chain to include the output parser. So now when we invoke the chain, it will \n",
    "\n",
    "- Take the prompt template and add the user's input\n",
    "- Send the prompt to the LLM\n",
    "- Parse the response from the LLM and extract the text"
   ]
  },
  {
   "cell_type": "code",
   "execution_count": 11,
   "metadata": {},
   "outputs": [],
   "source": [
    "chain = prompt | llm | output_parser"
   ]
  },
  {
   "cell_type": "markdown",
   "metadata": {},
   "source": [
    "Now let's invoke the chain again with the same prompt as before."
   ]
  },
  {
   "cell_type": "code",
   "execution_count": 12,
   "metadata": {},
   "outputs": [
    {
     "data": {
      "text/plain": [
       "\"Of course! Raspberry Pi is a versatile device that can be used for a wide range of projects. Here are a few ideas to get you started:\\n\\n1. Retro gaming console: Turn your Raspberry Pi into a retro gaming console using software like RetroPie. Connect it to a TV, add some game controllers, and enjoy playing classic games.\\n\\n2. Home media center: Transform your Raspberry Pi into a media center by installing Kodi. You can stream movies, TV shows, music, and even access online content, all from the comfort of your living room.\\n\\n3. Smart home automation: Build a smart home system using your Raspberry Pi. You can control lights, appliances, and other devices using sensors and relays. Add voice control with a microphone and speaker.\\n\\n4. Weather station: Create a weather station by connecting sensors to your Raspberry Pi. Monitor temperature, humidity, air pressure, and more. Display the data on an LCD screen or access it remotely through a web interface.\\n\\n5. Home security system: Develop a DIY home security system using a Raspberry Pi. Connect it to a camera module and motion sensors to monitor your home. Receive alerts and access the live feed from your smartphone.\\n\\n6. Robotics projects: Use your Raspberry Pi to build a robot. You can start with a simple robot car or go more advanced with a robot arm. Program it to perform tasks or compete in robot competitions.\\n\\n7. Portable computer: Build a portable computer with your Raspberry Pi by adding a touchscreen, battery pack, and a compact keyboard. This can be useful for lightweight computing on the go.\\n\\n8. Pi-powered magic mirror: Construct a smart mirror using a Raspberry Pi and a two-way mirror. Display useful information like weather, calendar, news, and more on the mirror's surface.\\n\\nRemember, these are just a few ideas to inspire you. You can modify them or combine multiple ideas to create something unique. Let me know if you need help with any specific project!\""
      ]
     },
     "execution_count": 12,
     "metadata": {},
     "output_type": "execute_result"
    }
   ],
   "source": [
    "chain.invoke({\"input\": \"I've just purchased a Raspberry Pi and I'm looking for a project to work on. Can you help me brainstorm some ideas?\"})"
   ]
  },
  {
   "cell_type": "markdown",
   "metadata": {},
   "source": [
    "This time, you should only get a string containing the text from the response.\n",
    "\n",
    "We can do much more powerful things with chains than simply setting up and passing prompts to the LLM and parsing the results. We can augment the prompt with external data retrieved from a database, we could add conversation history to provide context for a chatbot, or we could even chain multiple LLMs together to create a more powerful model. We'll explore some of these ideas in future labs."
   ]
  },
  {
   "attachments": {},
   "cell_type": "markdown",
   "metadata": {},
   "source": [
    "## Summary\n",
    "\n",
    "Langchain is an example of an AI orchestrator. It provides an alternative method to the raw API or using an SDK package to access the AI models, but on top of that can provide additional integrations, deal with issues related to rate limiting of the API and provide an abstraction layer over potentially complex operations. We'll get into those more complex use cases in later labs."
   ]
  },
  {
   "attachments": {},
   "cell_type": "markdown",
   "metadata": {},
   "source": [
    "## Up Next\n",
    "\n",
    "In the next lab, we'll look at another AI Orchestrator - Semantic Kernel."
   ]
  },
  {
   "cell_type": "markdown",
   "metadata": {},
   "source": [
    "## Next Section\n",
    "\n",
    "📣 [Semantic Kernel](../04-SemanticKernel/semantickernel.ipynb)"
   ]
  }
 ],
 "metadata": {
  "kernelspec": {
   "display_name": "Python 3",
   "language": "python",
   "name": "python3"
  },
  "language_info": {
   "codemirror_mode": {
    "name": "ipython",
    "version": 3
   },
   "file_extension": ".py",
   "mimetype": "text/x-python",
   "name": "python",
   "nbconvert_exporter": "python",
   "pygments_lexer": "ipython3",
   "version": "3.11.9"
  },
  "orig_nbformat": 4
 },
 "nbformat": 4,
 "nbformat_minor": 2
}
