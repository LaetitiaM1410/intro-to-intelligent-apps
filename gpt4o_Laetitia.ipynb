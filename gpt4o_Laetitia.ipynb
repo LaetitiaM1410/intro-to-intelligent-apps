{
 "cells": [
  {
   "cell_type": "markdown",
   "metadata": {},
   "source": [
    "using @datastax to build astradb database to store car details\n",
    "ask copilot: I want to build a table using datastax astradb to store the car information from my code being the color, brand and condition of the car appearing on the input image. How can I do this?\n",
    "\n"
   ]
  },
  {
   "cell_type": "code",
   "execution_count": 1,
   "metadata": {},
   "outputs": [],
   "source": [
    "# Image Analysis with GPT-4o model\n",
    "\n",
    "from azure.cognitiveservices.vision.computervision import ComputerVisionClient\n",
    "from azure.cognitiveservices.vision.computervision.models import VisualFeatureTypes\n",
    "from msrest.authentication import CognitiveServicesCredentials\n",
    "from dotenv import load_dotenv\n",
    "import os\n",
    "import json\n",
    "import re\n",
    "import uuid\n",
    "from openai import AzureOpenAI\n",
    "from cassandra.cluster import Cluster\n",
    "from cassandra.auth import PlainTextAuthProvider\n",
    "\n",
    "\n",
    "def analyse_car_image(image_path):\n",
    "\n",
    "    USE_AZURE_OPENAI = True\n",
    "    load_dotenv(\".env\")\n",
    "\n",
    "    AZURE_OPENAI_DEPLOYMENT_NAME = os.getenv(\"AZURE_OPENAI_COMPLETION_MODEL\")\n",
    "    AZURE_OPENAI_API_KEY = os.getenv(\"AZURE_OPENAI_API_KEY\")\n",
    "    AZURE_OPENAI_ENDPOINT = os.getenv(\"AZURE_OPENAI_ENDPOINT\")\n",
    "    subscription_key = os.getenv(\"AZURE_SEARCH_SUB_KEY\")\n",
    "    endpoint = os.getenv(\"AZURE_SEARCH_SUB_ENDPOINT\")\n",
    "\n",
    "    client = AzureOpenAI(\n",
    "        azure_endpoint=AZURE_OPENAI_ENDPOINT,\n",
    "        api_key=AZURE_OPENAI_API_KEY,\n",
    "        api_version=\"2024-02-15-preview\"\n",
    "    )\n",
    "\n",
    "    computervision_client = ComputerVisionClient(endpoint, CognitiveServicesCredentials(subscription_key))\n",
    "\n",
    "    # Open the image file and analyze it\n",
    "    with open(image_path, \"rb\") as image_file:\n",
    "        image_analysis = computervision_client.analyze_image_in_stream(image_file, [VisualFeatureTypes.tags, VisualFeatureTypes.color])\n",
    "\n",
    "    image_tags = ', '.join([tag.name for tag in image_analysis.tags])\n",
    "    image_colors = image_analysis.color\n",
    "\n",
    "    # Extract color information\n",
    "    dominant_colors = ', '.join(image_colors.dominant_colors)\n",
    "    accent_color = image_colors.accent_color\n",
    "    dominant_foreground_color = image_colors.dominant_color_foreground\n",
    "    dominant_background_color = image_colors.dominant_color_background\n",
    "\n",
    "    image_message = (\n",
    "        f\"The image contains the following elements: {image_tags}. \"\n",
    "        f\"The dominant colors in the image are: {dominant_colors}. \"\n",
    "        f\"The dominant foreground color is: {dominant_foreground_color}. \"\n",
    "    )\n",
    "\n",
    "    # Use GPT-4 to generate new prompt or analysis\n",
    "    messages = [\n",
    "        {\"role\": \"system\", \"content\": 'Be friendly and descriptive'},\n",
    "        {\"role\": \"user\", \"content\": image_message},\n",
    "        {\"role\": \"user\", \"content\": \"Based on these elements and colors, return the brand, color, and condition of the car as a JSON object. The condition should refer to the appearance of the car (e.g., good condition, bad condition).\"}\n",
    "    ]\n",
    "\n",
    "    response = client.chat.completions.create(\n",
    "        model=AZURE_OPENAI_DEPLOYMENT_NAME,\n",
    "        messages=messages,\n",
    "        temperature=0.14,\n",
    "        max_tokens=800,\n",
    "        top_p=0.17,\n",
    "        frequency_penalty=0,\n",
    "        presence_penalty=0,\n",
    "        stop=None,\n",
    "    )\n",
    "\n",
    "    response_content = response.choices[0].message.content\n",
    "\n",
    "    # Print the full response (for debugging)\n",
    "    print(\"Full response:\", response_content)\n",
    "\n",
    "    return response_content\n"
   ]
  },
  {
   "cell_type": "code",
   "execution_count": 2,
   "metadata": {},
   "outputs": [],
   "source": [
    "def save_car_info(response_content):\n",
    "\n",
    "    # Parse the JSON response\n",
    "    try:\n",
    "        json_match = re.search(r'\\{.*?\\}', response_content, re.DOTALL)\n",
    "        if json_match:\n",
    "            json_str = json_match.group(0)\n",
    "            car_info = json.loads(json_str)\n",
    "            brand = car_info.get(\"brand\", \"Unknown\")\n",
    "            color = car_info.get(\"color\", \"Unknown\")\n",
    "            condition = car_info.get(\"condition\", \"Unknown\")\n",
    "\n",
    "            print(f\"Brand: {brand}\")\n",
    "            print(f\"Color: {color}\")\n",
    "            print(f\"Condition: {condition}\")\n",
    "\n",
    "            # Generate a new UUID for the id\n",
    "            car_id = uuid.uuid4()\n",
    "\n",
    "            # Connect to the Cassandra database (AstraDB)\n",
    "            cloud_config = {\n",
    "                'secure_connect_bundle': '/workspace/secure-connect-laetitiadb.zip'\n",
    "            }\n",
    "            auth_provider = PlainTextAuthProvider('token', 'AstraCS:pZksehWIKZuEKnnOOokneZOa:f28fd7765f4272dc4d4928c06ac1147ba0abd16a45ccb833458c37f3f978ac3b')\n",
    "            cluster = Cluster(cloud=cloud_config, auth_provider=auth_provider)\n",
    "            session = cluster.connect('laetitia_astra')\n",
    "\n",
    "            # Insert the data into the car_info table\n",
    "            session.execute(\n",
    "                \"INSERT INTO car_info (id, brand, color, condition) VALUES (%s, %s, %s, %s)\",\n",
    "                (car_id, brand, color, condition)\n",
    "            )\n",
    "\n",
    "            print(\"Data saved to database successfully.\")\n",
    "        else:\n",
    "            print(\"Failed to extract JSON from the response\")\n",
    "\n",
    "    except json.JSONDecodeError:\n",
    "        print(\"Failed to parse the JSON response\")\n"
   ]
  },
  {
   "cell_type": "code",
   "execution_count": null,
   "metadata": {},
   "outputs": [],
   "source": [
    "image_path = \"/workspace/00089.jpg\"\n",
    "response_content = analyse_car_image(image_path)\n",
    "save_car_info(response_content)"
   ]
  },
  {
   "cell_type": "code",
   "execution_count": null,
   "metadata": {},
   "outputs": [],
   "source": [
    "#writing test using copilot: how does the code handle bad input (no car)?\n",
    "\n",
    "\n",
    "#use copilot to adjust analyse_car_image function to handle bad input (no car)"
   ]
  },
  {
   "cell_type": "code",
   "execution_count": null,
   "metadata": {},
   "outputs": [],
   "source": [
    "\n"
   ]
  },
  {
   "cell_type": "markdown",
   "metadata": {},
   "source": []
  },
  {
   "cell_type": "markdown",
   "metadata": {},
   "source": []
  },
  {
   "cell_type": "code",
   "execution_count": null,
   "metadata": {},
   "outputs": [],
   "source": []
  },
  {
   "cell_type": "code",
   "execution_count": null,
   "metadata": {},
   "outputs": [],
   "source": []
  },
  {
   "cell_type": "code",
   "execution_count": 3,
   "metadata": {},
   "outputs": [
    {
     "name": "stdout",
     "output_type": "stream",
     "text": [
      "ID: e4604d52-273f-4ac8-81fc-582300ea25e2, Brand: Volkswagen, Color: Red, Condition: good condition\n",
      "ID: a9734835-0853-4137-83a9-9ef635152ad8, Brand: Volkswagen, Color: Red, Condition: good condition\n"
     ]
    }
   ],
   "source": [
    "cloud_config = {\n",
    "    'secure_connect_bundle': '/workspace/secure-connect-laetitiadb.zip'\n",
    "}\n",
    "auth_provider = PlainTextAuthProvider('token', 'AstraCS:pZksehWIKZuEKnnOOokneZOa:f28fd7765f4272dc4d4928c06ac1147ba0abd16a45ccb833458c37f3f978ac3b')\n",
    "cluster = Cluster(cloud=cloud_config, auth_provider=auth_provider)\n",
    "session = cluster.connect('laetitia_astra')\n",
    "rows = session.execute(\"SELECT id, brand, color, condition FROM car_info\")\n",
    "\n",
    "# Print all rows\n",
    "for row in rows:\n",
    "    print(f\"ID: {row.id}, Brand: {row.brand}, Color: {row.color}, Condition: {row.condition}\")\n"
   ]
  },
  {
   "cell_type": "code",
   "execution_count": 6,
   "metadata": {},
   "outputs": [
    {
     "data": {
      "text/plain": [
       "<cassandra.cluster.ResultSet at 0x7ff212b16fd0>"
      ]
     },
     "execution_count": 6,
     "metadata": {},
     "output_type": "execute_result"
    }
   ],
   "source": [
    "cloud_config = {\n",
    "    'secure_connect_bundle': '/workspace/secure-connect-laetitiadb.zip'\n",
    "}\n",
    "auth_provider = PlainTextAuthProvider('token', 'AstraCS:pZksehWIKZuEKnnOOokneZOa:f28fd7765f4272dc4d4928c06ac1147ba0abd16a45ccb833458c37f3f978ac3b')\n",
    "cluster = Cluster(cloud=cloud_config, auth_provider=auth_provider)\n",
    "session = cluster.connect('laetitia_astra')\n",
    "session.execute(\"TRUNCATE car_info\")"
   ]
  },
  {
   "cell_type": "code",
   "execution_count": null,
   "metadata": {},
   "outputs": [],
   "source": []
  }
 ],
 "metadata": {
  "kernelspec": {
   "display_name": "Python 3",
   "language": "python",
   "name": "python3"
  },
  "language_info": {
   "codemirror_mode": {
    "name": "ipython",
    "version": 3
   },
   "file_extension": ".py",
   "mimetype": "text/x-python",
   "name": "python",
   "nbconvert_exporter": "python",
   "pygments_lexer": "ipython3",
   "version": "3.11.9"
  }
 },
 "nbformat": 4,
 "nbformat_minor": 2
}
